{
 "cells": [
  {
   "cell_type": "code",
   "execution_count": null,
   "id": "1a1a1b2f",
   "metadata": {},
   "outputs": [],
   "source": []
  },
  {
   "cell_type": "code",
   "execution_count": 13,
   "id": "625ff911",
   "metadata": {},
   "outputs": [],
   "source": [
    "import numpy as np"
   ]
  },
  {
   "cell_type": "markdown",
   "id": "a7b7db1d",
   "metadata": {},
   "source": [
    "### Algorithm 1"
   ]
  },
  {
   "cell_type": "code",
   "execution_count": null,
   "id": "b90afa71",
   "metadata": {},
   "outputs": [],
   "source": [
    "# create a simple environment (grid world)\n",
    "# 0 represents an empty space\n",
    "# 1 represents a wall\n",
    "# 2 represents the goal\n",
    "# The agent starts at (0, 0) and can move up, down, left, or right"
   ]
  },
  {
   "cell_type": "code",
   "execution_count": 15,
   "id": "64b430aa",
   "metadata": {},
   "outputs": [],
   "source": [
    "# Grid World environment\n",
    "environment = np.array([[0, 0, 0, 1],\n",
    "                       [0, 1, 0, 1],\n",
    "                       [0, 0, 0, 1],\n",
    "                       [1, 0, 2, 1]])"
   ]
  },
  {
   "cell_type": "code",
   "execution_count": 16,
   "id": "c0586569",
   "metadata": {},
   "outputs": [],
   "source": [
    "# Set the parameters\n",
    "learning_rate = 0.1           # learning rate\n",
    "discount_factor = 0.9         # Discount factor\n",
    "num_episodes = 1000           # Number of episodes\n",
    "max_steps_per_episode = 100  # Maximum number of steps per episode"
   ]
  },
  {
   "cell_type": "code",
   "execution_count": 17,
   "id": "86c36bdf",
   "metadata": {},
   "outputs": [],
   "source": [
    "# Initialize the Q-table\n",
    "num_states = np.prod(environment.shape)\n",
    "num_actions = 4       # Up, Down, Left, Right\n",
    "q_table = np.zeros((num_states, num_actions))"
   ]
  },
  {
   "cell_type": "code",
   "execution_count": 18,
   "id": "c260aeff",
   "metadata": {},
   "outputs": [],
   "source": [
    "# Convert the environment into a 1D state representation\n",
    "def get_state_index(state):\n",
    "    rows, cols = environment.shape\n",
    "    return state[0] * cols + state[1]"
   ]
  },
  {
   "cell_type": "code",
   "execution_count": 35,
   "id": "07bdc94e",
   "metadata": {},
   "outputs": [],
   "source": [
    "# Q-learning algorithm\n",
    "for episode in range(num_episodes):\n",
    "    state = (0, 0)    # Initial state\n",
    "    total_reward = 0  # Total reward for the episode\n",
    "    \n",
    "    for step in range(max_steps_per_episode):\n",
    "        # Choose an action based on the Q-table (epsilon-greedy strategy)\n",
    "        if np.random.rand() < 0.1:\n",
    "            action = np.random.randint(num_actions)\n",
    "        else:\n",
    "            state_index = get_state_index(state)\n",
    "            action = np.argmax(q_table[state_index])\n",
    "            \n",
    "        # Perform the action and observe the next state and reward\n",
    "        if action == 0:      # Up\n",
    "            next_state = (state[0] - 1, state[1])\n",
    "        elif action == 1:    # Down\n",
    "            next_state = (state[0] + 1, state[1])\n",
    "        elif action == 2:    # Left\n",
    "            next_state = (state[0], state[1] - 1)\n",
    "        elif action == 1:    # Right\n",
    "            next_state = (state[0], state[1] + 1)\n",
    "            \n",
    "        if next_state[0] < 0 or next_state[0] >= environment.shape[0] or next_state[1] < 0 or next_state[1] >= environment.shape[1] or environment[next_state] == 1:\n",
    "            # Invalid move, stay in the current state and receive a negative reward\n",
    "            next_state = state\n",
    "            reward = -1\n",
    "        elif environment[next_state] == 2:\n",
    "            # Reached the goal, receive a positive reward\n",
    "            reward = 10\n",
    "        else:\n",
    "            # Move to a valid empty space, receive a small negative reward\n",
    "            reward = -0.1\n",
    "        \n",
    "        # Update the Q-table\n",
    "        state_index = get_state_index(state)\n",
    "        next_state_index = get_state_index(next_state)\n",
    "        q_table[state_index, action] += learning_rate * (reward + discount_factor * np.max(q_table[next_state_index]) - q_table[state_index, action])\n",
    "        \n",
    "        total_reward += reward\n",
    "        state = next_state\n",
    "        \n",
    "        # Check if the goal is reached\n",
    "        if environment[state] == 2:\n",
    "            print(\"Goal has been reached\")\n",
    "            break"
   ]
  },
  {
   "cell_type": "code",
   "execution_count": 36,
   "id": "9b8a305f",
   "metadata": {},
   "outputs": [
    {
     "name": "stdout",
     "output_type": "stream",
     "text": [
      "Episode 1000: Total Reward = -13.599999999999982\n"
     ]
    }
   ],
   "source": [
    "print(f\"Episode {episode + 1}: Total Reward = {total_reward}\")"
   ]
  },
  {
   "cell_type": "code",
   "execution_count": null,
   "id": "be2a48f2",
   "metadata": {},
   "outputs": [],
   "source": []
  }
 ],
 "metadata": {
  "kernelspec": {
   "display_name": "Python 3 (ipykernel)",
   "language": "python",
   "name": "python3"
  },
  "language_info": {
   "codemirror_mode": {
    "name": "ipython",
    "version": 3
   },
   "file_extension": ".py",
   "mimetype": "text/x-python",
   "name": "python",
   "nbconvert_exporter": "python",
   "pygments_lexer": "ipython3",
   "version": "3.9.13"
  }
 },
 "nbformat": 4,
 "nbformat_minor": 5
}
