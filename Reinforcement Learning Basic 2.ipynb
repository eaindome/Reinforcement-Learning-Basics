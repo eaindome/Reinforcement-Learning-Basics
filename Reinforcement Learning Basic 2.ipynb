{
 "cells": [
  {
   "cell_type": "code",
   "execution_count": null,
   "id": "4c59a361",
   "metadata": {},
   "outputs": [],
   "source": []
  },
  {
   "cell_type": "code",
   "execution_count": 11,
   "id": "b2a2ef58",
   "metadata": {},
   "outputs": [],
   "source": [
    "import numpy as np"
   ]
  },
  {
   "cell_type": "code",
   "execution_count": 27,
   "id": "94c64723",
   "metadata": {},
   "outputs": [],
   "source": [
    "# define the grid world environment\n",
    "environment = np.array([[0, 0, 0, 0],\n",
    "                       [0, -1, 0, -1],\n",
    "                       [0, 0, 0, -1],\n",
    "                       [1, -1, 0, 1]])"
   ]
  },
  {
   "cell_type": "code",
   "execution_count": 28,
   "id": "ceb0e9b8",
   "metadata": {},
   "outputs": [],
   "source": [
    "# define the q-table\n",
    "q_table = np.zeros((4, 4, 4))"
   ]
  },
  {
   "cell_type": "code",
   "execution_count": 29,
   "id": "f9154a57",
   "metadata": {},
   "outputs": [],
   "source": [
    "# define the hyperparameters\n",
    "learning_rate = 0.1\n",
    "discount_factor = 0.99\n",
    "epsilon = 0.1\n",
    "num_episodes = 1000\n",
    "max_steps_per_episode = 100"
   ]
  },
  {
   "cell_type": "code",
   "execution_count": 30,
   "id": "a4888ebb",
   "metadata": {},
   "outputs": [],
   "source": [
    "# Q-learning algorithm\n",
    "for episode in range(num_episodes):\n",
    "    state = (0, 0)  # Initial state\n",
    "\n",
    "    for step in range(max_steps_per_episode):\n",
    "        # Choose an action using epsilon-greedy policy\n",
    "        if np.random.uniform(0, 1) < epsilon:\n",
    "            action = np.random.randint(0, 4)  # Random action\n",
    "        else:\n",
    "            action = np.argmax(q_table[state])\n",
    "\n",
    "        # Perform the action and observe the next state and reward\n",
    "        next_state = None\n",
    "        reward = None\n",
    "\n",
    "        if action == 0:  # Up\n",
    "            if state[0] > 0:\n",
    "                next_state = (state[0] - 1, state[1])\n",
    "        elif action == 1:  # Down\n",
    "            if state[0] < 3:\n",
    "                next_state = (state[0] + 1, state[1])\n",
    "        elif action == 2:  # Left\n",
    "            if state[1] > 0:\n",
    "                next_state = (state[0], state[1] - 1)\n",
    "        elif action == 3:  # Right\n",
    "            if state[1] < 3:\n",
    "                next_state = (state[0], state[1] + 1)\n",
    "\n",
    "        if next_state is not None:\n",
    "            reward = environment[next_state]\n",
    "\n",
    "        # Update the Q-table using the Q-learning update rule\n",
    "        if next_state is not None and reward is not None:\n",
    "            q_table[state][action] += learning_rate * (reward + discount_factor * np.max(q_table[next_state]) - q_table[state][action])\n",
    "\n",
    "        # Update the state\n",
    "        state = next_state\n",
    "\n",
    "        if state is None or environment[state] == 1:  # Reached the goal state or an invalid state\n",
    "            break"
   ]
  },
  {
   "cell_type": "code",
   "execution_count": 31,
   "id": "a02ee77e",
   "metadata": {},
   "outputs": [
    {
     "name": "stdout",
     "output_type": "stream",
     "text": [
      "Goal not reached!\n"
     ]
    }
   ],
   "source": [
    "# Test the learned policy\n",
    "state = (0, 0)   # Initial state\n",
    "steps = 0        # Number of steps taken\n",
    "\n",
    "while environment[state] != 1 and steps < max_steps_per_episode:\n",
    "    action = np.argmax(q_table[state])\n",
    "\n",
    "    if action == 0:  # Up\n",
    "        if state[0] > 0:\n",
    "            state = (state[0] - 1, state[1])\n",
    "    elif action == 1:  # Down\n",
    "        if state[0] < 3:\n",
    "            state = (state[0] + 1, state[1])\n",
    "    elif action == 2:  # Left\n",
    "        if state[1] > 0:\n",
    "            state = (state[0], state[1] - 1)\n",
    "    elif action == 3:  # Right\n",
    "        if state[1] < 3:\n",
    "            state = (state[0], state[1] + 1)\n",
    "\n",
    "    steps += 1\n",
    "\n",
    "if steps < max_steps_per_episode:\n",
    "    print(\"Goal reached!\")\n",
    "else:\n",
    "    print(\"Goal not reached!\")"
   ]
  },
  {
   "cell_type": "code",
   "execution_count": null,
   "id": "1f562aac",
   "metadata": {},
   "outputs": [],
   "source": []
  },
  {
   "cell_type": "code",
   "execution_count": null,
   "id": "0e990600",
   "metadata": {},
   "outputs": [],
   "source": []
  },
  {
   "cell_type": "code",
   "execution_count": null,
   "id": "d98e6564",
   "metadata": {},
   "outputs": [],
   "source": []
  },
  {
   "cell_type": "code",
   "execution_count": null,
   "id": "89527c01",
   "metadata": {},
   "outputs": [],
   "source": []
  },
  {
   "cell_type": "code",
   "execution_count": null,
   "id": "459b0144",
   "metadata": {},
   "outputs": [],
   "source": []
  },
  {
   "cell_type": "code",
   "execution_count": null,
   "id": "8c4c81d1",
   "metadata": {},
   "outputs": [],
   "source": []
  },
  {
   "cell_type": "code",
   "execution_count": null,
   "id": "3fc1b1f3",
   "metadata": {},
   "outputs": [],
   "source": []
  },
  {
   "cell_type": "markdown",
   "id": "b789db0e",
   "metadata": {},
   "source": [
    "###### experiment"
   ]
  },
  {
   "cell_type": "code",
   "execution_count": 36,
   "id": "cadbf4fb",
   "metadata": {},
   "outputs": [
    {
     "name": "stdout",
     "output_type": "stream",
     "text": [
      "Goal not reached!\n"
     ]
    }
   ],
   "source": [
    "import numpy as np\n",
    "\n",
    "# Define the grid world environment\n",
    "environment = np.array([\n",
    "    [0, 0, 0, 0],\n",
    "    [0, -1, 0, -1],\n",
    "    [0, 0, 0, -1],\n",
    "    [0, -1, 0, 1]\n",
    "])\n",
    "\n",
    "# Define the Q-table\n",
    "q_table = np.zeros((4, 4, 4))  # 4x4 grid with 4 possible actions\n",
    "\n",
    "# Define the hyperparameters\n",
    "learning_rate = 0.1\n",
    "discount_factor = 0.99\n",
    "epsilon = 0.1\n",
    "num_episodes = 1000\n",
    "max_steps_per_episode = 100\n",
    "\n",
    "# Q-learning algorithm\n",
    "for episode in range(num_episodes):\n",
    "    state = (0, 0)  # Initial state\n",
    "\n",
    "    for step in range(max_steps_per_episode):\n",
    "        # Choose an action using epsilon-greedy policy\n",
    "        if np.random.uniform(0, 1) < epsilon:\n",
    "            action = np.random.randint(0, 4)  # Random action\n",
    "        else:\n",
    "            action = np.argmax(q_table[state])\n",
    "\n",
    "        # Perform the action and observe the next state and reward\n",
    "        next_state = None\n",
    "        reward = None\n",
    "\n",
    "        if action == 0:  # Up\n",
    "            if state[0] > 0:\n",
    "                next_state = (state[0] - 1, state[1])\n",
    "        elif action == 1:  # Down\n",
    "            if state[0] < 3:\n",
    "                next_state = (state[0] + 1, state[1])\n",
    "        elif action == 2:  # Left\n",
    "            if state[1] > 0:\n",
    "                next_state = (state[0], state[1] - 1)\n",
    "        elif action == 3:  # Right\n",
    "            if state[1] < 3:\n",
    "                next_state = (state[0], state[1] + 1)\n",
    "\n",
    "        if next_state is not None:\n",
    "            reward = environment[next_state]\n",
    "\n",
    "        # Update the Q-table using the Q-learning update rule\n",
    "        if next_state is not None and reward is not None:\n",
    "            q_table[state][action] += learning_rate * (reward + discount_factor * np.max(q_table[next_state]) - q_table[state][action])\n",
    "\n",
    "        # Update the state\n",
    "        state = next_state\n",
    "\n",
    "        if state is None or environment[state] == 1:  # Reached the goal state or an invalid state\n",
    "            break\n",
    "\n",
    "# Test the learned policy\n",
    "state = (0, 0)  # Initial state\n",
    "steps = 0  # Number of steps taken\n",
    "\n",
    "while environment[state] != 1 and steps < max_steps_per_episode:\n",
    "    action = np.argmax(q_table[state])\n",
    "\n",
    "    if action == 0:  # Up\n",
    "        if state[0] > 0:\n",
    "            state = (state[0] - 1, state[1])\n",
    "    elif action == 1:  # Down\n",
    "        if state[0] < 3:\n",
    "            state = (state[0] + 1, state[1])\n",
    "    elif action == 2:  # Left\n",
    "        if state[1] > 0:\n",
    "            state = (state[0], state[1] - 1)\n",
    "    elif action == 3:  # Right\n",
    "        if state[1] < 3:\n",
    "            state = (state[0], state[1] + 1)\n",
    "\n",
    "    steps += 1\n",
    "\n",
    "if steps < max_steps_per_episode:\n",
    "    print(\"Goal reached!\")\n",
    "else:\n",
    "    print(\"Goal not reached!\")\n"
   ]
  },
  {
   "cell_type": "code",
   "execution_count": null,
   "id": "12828153",
   "metadata": {},
   "outputs": [],
   "source": []
  },
  {
   "cell_type": "code",
   "execution_count": null,
   "id": "d9a69370",
   "metadata": {},
   "outputs": [],
   "source": []
  },
  {
   "cell_type": "code",
   "execution_count": null,
   "id": "898c51f6",
   "metadata": {},
   "outputs": [],
   "source": []
  }
 ],
 "metadata": {
  "kernelspec": {
   "display_name": "Python 3 (ipykernel)",
   "language": "python",
   "name": "python3"
  },
  "language_info": {
   "codemirror_mode": {
    "name": "ipython",
    "version": 3
   },
   "file_extension": ".py",
   "mimetype": "text/x-python",
   "name": "python",
   "nbconvert_exporter": "python",
   "pygments_lexer": "ipython3",
   "version": "3.9.13"
  }
 },
 "nbformat": 4,
 "nbformat_minor": 5
}
